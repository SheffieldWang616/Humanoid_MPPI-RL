{
 "cells": [
  {
   "cell_type": "code",
   "execution_count": 33,
   "id": "1dff0144",
   "metadata": {},
   "outputs": [],
   "source": [
    "import os, sys\n",
    "import mujoco\n",
    "import mujoco.viewer\n",
    "import numpy as np\n",
    "import time\n",
    "import torch\n",
    "\n",
    "import sys\n",
    "sys.path.append(\"F:\\\\Sheffield's Folder\\\\CMU\\\\16-745 OPT-Control & RL\\\\Projects\\\\Humanoid_MPPI-RL\")  # ← Adjust this\n",
    "from learning.model import FeatureAttentionStatePredictor\n",
    "from learning.model import CrossAttentionStatePredictor\n"
   ]
  },
  {
   "cell_type": "markdown",
   "id": "d197df84",
   "metadata": {},
   "source": [
    "## Visualization of original trajactory\n",
    "\n",
    "The following block allows you to view the trajectory from MPPI"
   ]
  },
  {
   "cell_type": "code",
   "execution_count": 59,
   "id": "7cfa22a7",
   "metadata": {},
   "outputs": [
    {
     "name": "stdout",
     "output_type": "stream",
     "text": [
      "Loaded 630 frames, 55 features per state.\n",
      "Saved trajectory.csv!\n"
     ]
    }
   ],
   "source": [
    "# Load model to get nq and nv\n",
    "model_path = \"F:\\\\Sheffield's Folder\\\\CMU\\\\16-745 OPT-Control & RL\\\\Projects\\\\Humanoid_MPPI-RL\\\\Visualization\\\\humanoid.xml\"\n",
    "# model_path = \"F:\\\\Sheffield's Folder\\\\CMU\\\\16-745 OPT-Control & RL\\\\Projects\\\\Humanoid_MPPI-RL\\\\models\\\\cartpole.xml\"\n",
    "model = mujoco.MjModel.from_xml_path(model_path)\n",
    "nq = model.nq\n",
    "nv = model.nv\n",
    "\n",
    "# Load your state file\n",
    "data_directory = \"F:\\\\Sheffield's Folder\\\\CMU\\\\16-745 OPT-Control & RL\\\\Projects\\\\Humanoid_MPPI-RL\\\\data\\\\2025-04-21_131151\"\n",
    "state_path = os.path.join(data_directory, \"states.csv\")\n",
    "states = np.loadtxt(state_path, delimiter=\",\", skiprows=1)  # adjust if header\n",
    "print(f\"Loaded {states.shape[0]} frames, {states.shape[1]} features per state.\")\n",
    "\n",
    "# Validate and slice if necessary\n",
    "assert states.shape[1] >= nq + nv, \"State file doesn't contain enough dimensions for qpos + qvel\"\n",
    "\n",
    "qpos_qvel = states[:, :nq+nv]  # Take only the first nq+nv columns\n",
    "\n",
    "# Save as trajectory.csv\n",
    "np.savetxt(\"trajectory.csv\", qpos_qvel, delimiter=\",\")\n",
    "print(\"Saved trajectory.csv!\")\n",
    "\n",
    "# Load the model\n",
    "data = mujoco.MjData(model)\n",
    "\n",
    "# Dummy predicted trajectory (replace with your real output)\n",
    "# Shape: (T, qpos_dim + qvel_dim)\n",
    "trajectory = np.loadtxt(\"trajectory.csv\", delimiter=\",\")  # ← or from your model\n",
    "\n",
    "# Launch viewer\n",
    "with mujoco.viewer.launch_passive(model, data) as viewer:\n",
    "    for t in range(len(trajectory)):\n",
    "        # Unpack qpos and qvel\n",
    "        qpos_dim = model.nq\n",
    "        qvel_dim = model.nv\n",
    "        qpos = trajectory[t, :qpos_dim]\n",
    "        qvel = trajectory[t, qpos_dim:qpos_dim+qvel_dim]\n",
    "\n",
    "        # Set state\n",
    "        data.qpos[:] = qpos\n",
    "        data.qvel[:] = qvel\n",
    "\n",
    "        # Forward and render\n",
    "        mujoco.mj_forward(model, data)\n",
    "        viewer.sync()\n",
    "\n",
    "        time.sleep(1 / 60.0)  # 60 FPS"
   ]
  },
  {
   "cell_type": "markdown",
   "id": "b70fff0a",
   "metadata": {},
   "source": [
    "## Visualization of State-predictor Trajectory\n",
    "\n",
    "The following block allows you to view the predicted state trajectory"
   ]
  },
  {
   "cell_type": "code",
   "execution_count": 56,
   "id": "a791ba0a",
   "metadata": {},
   "outputs": [
    {
     "data": {
      "text/plain": [
       "CrossAttentionStatePredictor(\n",
       "  (qpos_encoder): Linear(in_features=28, out_features=128, bias=True)\n",
       "  (qvel_encoder): Linear(in_features=27, out_features=128, bias=True)\n",
       "  (action_encoder): Linear(in_features=21, out_features=128, bias=True)\n",
       "  (attn_qpos_to_qvel): MultiheadAttention(\n",
       "    (out_proj): NonDynamicallyQuantizableLinear(in_features=128, out_features=128, bias=True)\n",
       "  )\n",
       "  (attn_qvel_to_qpos): MultiheadAttention(\n",
       "    (out_proj): NonDynamicallyQuantizableLinear(in_features=128, out_features=128, bias=True)\n",
       "  )\n",
       "  (fusion_layer): Sequential(\n",
       "    (0): LayerNorm((256,), eps=1e-05, elementwise_affine=True)\n",
       "    (1): ReLU()\n",
       "    (2): Linear(in_features=256, out_features=128, bias=True)\n",
       "    (3): ReLU()\n",
       "    (4): Linear(in_features=128, out_features=55, bias=True)\n",
       "  )\n",
       ")"
      ]
     },
     "execution_count": 56,
     "metadata": {},
     "output_type": "execute_result"
    }
   ],
   "source": [
    "# Define model parameters\n",
    "state_dim = 55  # Replace with your actual state dimension\n",
    "action_dim = 21  # Replace with your actual action dimension\n",
    "\n",
    "# Initialize the model \n",
    "\n",
    "# cartpole: state_dim=4, action_dim=1, hidden_dim=64, num_heads=4, attn_layers=2\n",
    "# humanoid: state_dim=55, action_dim=21, hidden_dim=256, num_heads=4, attn_layers=4\n",
    "# model = FeatureAttentionStatePredictor(\n",
    "#     state_dim=55,\n",
    "#     action_dim=21,\n",
    "#     hidden_dim=128,\n",
    "#     num_heads=4,\n",
    "#     attn_layers=2,\n",
    "#     dropout_rate=0.0\n",
    "# )\n",
    "\n",
    "# model = CrossAttentionStatePredictor(\n",
    "#         qpos_dim=2, qvel_dim=2, action_dim=1, hidden_dim=144, num_heads=6)\n",
    "\n",
    "model = CrossAttentionStatePredictor(\n",
    "    qpos_dim=28, qvel_dim=27, action_dim=21, hidden_dim=128, num_heads=4\n",
    ")\n",
    "\n",
    "# Load the trained weights\n",
    "pth_path = \"F:\\\\Sheffield's Folder\\\\CMU\\\\16-745 OPT-Control & RL\\\\Projects\\\\Humanoid_MPPI-RL\\\\checkpoints\\\\model_epoch_200.pth\"\n",
    "model.load_state_dict(torch.load(pth_path, map_location='cpu'))\n",
    "model.eval()"
   ]
  },
  {
   "cell_type": "code",
   "execution_count": 57,
   "id": "8061de6d",
   "metadata": {},
   "outputs": [],
   "source": [
    "# Load initial states and actions\n",
    "# 04-21_011138 is for cartpole inferencing, 04-19_153833 is for humanoid\n",
    "data_directory = \"F:\\\\Sheffield's Folder\\\\CMU\\\\16-745 OPT-Control & RL\\\\Projects\\\\Humanoid_MPPI-RL\\\\data\\\\2025-04-21_131151\"\n",
    "state_path = os.path.join(data_directory, \"states.csv\")\n",
    "action_path = os.path.join(data_directory, \"actions.csv\")\n",
    "states = np.loadtxt(state_path, delimiter=',')  # Shape: (T, state_dim)\n",
    "actions = np.loadtxt(action_path, delimiter=',')  # Shape: (T, action_dim)\n",
    "\n",
    "# Initialize a list to store predicted states\n",
    "predicted_states = []\n",
    "\n",
    "# Convert to tensors\n",
    "state_tensor = torch.tensor(states[0], dtype=torch.float32)\n",
    "for action in actions:\n",
    "    action_tensor = torch.tensor(action, dtype=torch.float32)\n",
    "    if action_tensor.ndim == 0:\n",
    "        action_tensor = action_tensor.unsqueeze(0)  # Make it 1D\n",
    "    input_tensor = torch.cat((state_tensor, action_tensor)).unsqueeze(0)  # Shape: (1, state_dim + action_dim)\n",
    "    \n",
    "    with torch.no_grad():\n",
    "        delta = model(input_tensor).squeeze(0)  # Predict the change in state\n",
    "    \n",
    "    next_state = state_tensor + delta  # Update the state\n",
    "    predicted_states.append(next_state.numpy())\n",
    "    state_tensor = next_state  # Set the current state for the next iteration\n",
    "\n",
    "# Convert the list to a NumPy array\n",
    "predicted_states = np.array(predicted_states)\n",
    "np.savetxt('trajectory.csv', predicted_states, delimiter=',')\n"
   ]
  },
  {
   "cell_type": "code",
   "execution_count": 58,
   "id": "7cfb2965",
   "metadata": {},
   "outputs": [],
   "source": [
    "# Load the MuJoCo model\n",
    "# model_path = './humanoid.xml'  # Replace with your actual model path\n",
    "# model_path = \"F:\\\\Sheffield's Folder\\\\CMU\\\\16-745 OPT-Control & RL\\\\Projects\\\\Humanoid_MPPI-RL\\\\models\\\\cartpole.xml\"\n",
    "model_path = \"F:\\\\Sheffield's Folder\\\\CMU\\\\16-745 OPT-Control & RL\\\\Projects\\\\Humanoid_MPPI-RL\\\\Visualization\\\\humanoid.xml\"\n",
    "\n",
    "mujoco_model = mujoco.MjModel.from_xml_path(model_path)\n",
    "mujoco_data = mujoco.MjData(mujoco_model)\n",
    "\n",
    "# Load the predicted trajectory\n",
    "trajectory = np.loadtxt('trajectory.csv', delimiter=',')\n",
    "\n",
    "# Determine dimensions\n",
    "qpos_dim = mujoco_model.nq\n",
    "qvel_dim = mujoco_model.nv\n",
    "\n",
    "# Launch the viewer\n",
    "with mujoco.viewer.launch_passive(mujoco_model, mujoco_data) as viewer:\n",
    "    for state in trajectory:\n",
    "        # Split the state into qpos and qvel\n",
    "        qpos = state[:qpos_dim]\n",
    "        qvel = state[qpos_dim:qpos_dim + qvel_dim]\n",
    "\n",
    "        # Set the state\n",
    "        mujoco_data.qpos[:] = qpos\n",
    "        mujoco_data.qvel[:] = qvel\n",
    "\n",
    "        # Forward the simulation and render\n",
    "        mujoco.mj_forward(mujoco_model, mujoco_data)\n",
    "        viewer.sync()\n",
    "\n",
    "        time.sleep(1 / 60.0)  # Adjust the sleep time as needed\n"
   ]
  }
 ],
 "metadata": {
  "kernelspec": {
   "display_name": "Python 3",
   "language": "python",
   "name": "python3"
  },
  "language_info": {
   "codemirror_mode": {
    "name": "ipython",
    "version": 3
   },
   "file_extension": ".py",
   "mimetype": "text/x-python",
   "name": "python",
   "nbconvert_exporter": "python",
   "pygments_lexer": "ipython3",
   "version": "3.10.15"
  }
 },
 "nbformat": 4,
 "nbformat_minor": 5
}
