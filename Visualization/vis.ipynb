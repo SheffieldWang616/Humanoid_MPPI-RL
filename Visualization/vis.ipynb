{
 "cells": [
  {
   "cell_type": "code",
   "execution_count": 7,
   "id": "1dff0144",
   "metadata": {},
   "outputs": [],
   "source": [
    "import os, sys\n",
    "import mujoco\n",
    "import mujoco.viewer\n",
    "import numpy as np\n",
    "import time\n",
    "import torch\n",
    "\n",
    "import sys\n",
    "sys.path.append(\"F:\\\\Sheffield's Folder\\\\CMU\\\\16-745 OPT-Control & RL\\\\Projects\\\\Humanoid_MPPI-RL\")  # ← Adjust this\n",
    "from learning.model import FeatureAttentionStatePredictor\n"
   ]
  },
  {
   "cell_type": "markdown",
   "id": "d197df84",
   "metadata": {},
   "source": [
    "## Visualization of original trajactory\n",
    "\n",
    "The following block allows you to view the trajectory from MPPI"
   ]
  },
  {
   "cell_type": "code",
   "execution_count": 13,
   "id": "7cfa22a7",
   "metadata": {},
   "outputs": [
    {
     "name": "stdout",
     "output_type": "stream",
     "text": [
      "Loaded 24031 frames, 55 features per state.\n",
      "Saved trajectory.csv!\n"
     ]
    },
    {
     "ename": "KeyboardInterrupt",
     "evalue": "",
     "output_type": "error",
     "traceback": [
      "\u001b[1;31m---------------------------------------------------------------------------\u001b[0m",
      "\u001b[1;31mKeyboardInterrupt\u001b[0m                         Traceback (most recent call last)",
      "Cell \u001b[1;32mIn[13], line 45\u001b[0m\n\u001b[0;32m     42\u001b[0m mujoco\u001b[38;5;241m.\u001b[39mmj_forward(model, data)\n\u001b[0;32m     43\u001b[0m viewer\u001b[38;5;241m.\u001b[39msync()\n\u001b[1;32m---> 45\u001b[0m \u001b[43mtime\u001b[49m\u001b[38;5;241;43m.\u001b[39;49m\u001b[43msleep\u001b[49m\u001b[43m(\u001b[49m\u001b[38;5;241;43m1\u001b[39;49m\u001b[43m \u001b[49m\u001b[38;5;241;43m/\u001b[39;49m\u001b[43m \u001b[49m\u001b[38;5;241;43m60.0\u001b[39;49m\u001b[43m)\u001b[49m  \u001b[38;5;66;03m# 60 FPS\u001b[39;00m\n",
      "\u001b[1;31mKeyboardInterrupt\u001b[0m: "
     ]
    }
   ],
   "source": [
    "# Load model to get nq and nv\n",
    "model = mujoco.MjModel.from_xml_path(\"F:\\\\Sheffield's Folder\\\\CMU\\\\16-745 OPT-Control & RL\\\\Projects\\\\Humanoid_MPPI-RL\\\\Visualization\\\\humanoid.xml\")\n",
    "nq = model.nq\n",
    "nv = model.nv\n",
    "\n",
    "# Load your state file\n",
    "data_directory = \"F:\\\\Sheffield's Folder\\\\CMU\\\\16-745 OPT-Control & RL\\\\Projects\\\\Humanoid_MPPI-RL\\\\data\\\\2025-04-19_153833\"\n",
    "state_path = os.path.join(data_directory, \"states.csv\")\n",
    "states = np.loadtxt(state_path, delimiter=\",\", skiprows=1)  # adjust if header\n",
    "print(f\"Loaded {states.shape[0]} frames, {states.shape[1]} features per state.\")\n",
    "\n",
    "# Validate and slice if necessary\n",
    "assert states.shape[1] >= nq + nv, \"State file doesn't contain enough dimensions for qpos + qvel\"\n",
    "\n",
    "qpos_qvel = states[:, :nq+nv]  # Take only the first nq+nv columns\n",
    "\n",
    "# Save as trajectory.csv\n",
    "np.savetxt(\"trajectory.csv\", qpos_qvel, delimiter=\",\")\n",
    "print(\"Saved trajectory.csv!\")\n",
    "\n",
    "# Load the model\n",
    "data = mujoco.MjData(model)\n",
    "\n",
    "# Dummy predicted trajectory (replace with your real output)\n",
    "# Shape: (T, qpos_dim + qvel_dim)\n",
    "trajectory = np.loadtxt(\"trajectory.csv\", delimiter=\",\")  # ← or from your model\n",
    "\n",
    "# Launch viewer\n",
    "with mujoco.viewer.launch_passive(model, data) as viewer:\n",
    "    for t in range(len(trajectory)):\n",
    "        # Unpack qpos and qvel\n",
    "        qpos_dim = model.nq\n",
    "        qvel_dim = model.nv\n",
    "        qpos = trajectory[t, :qpos_dim]\n",
    "        qvel = trajectory[t, qpos_dim:qpos_dim+qvel_dim]\n",
    "\n",
    "        # Set state\n",
    "        data.qpos[:] = qpos\n",
    "        data.qvel[:] = qvel\n",
    "\n",
    "        # Forward and render\n",
    "        mujoco.mj_forward(model, data)\n",
    "        viewer.sync()\n",
    "\n",
    "        time.sleep(1 / 60.0)  # 60 FPS"
   ]
  },
  {
   "cell_type": "markdown",
   "id": "b70fff0a",
   "metadata": {},
   "source": [
    "## Visualization of State-predictor Trajectory\n",
    "\n",
    "The following block allows you to view the predicted state trajectory"
   ]
  },
  {
   "cell_type": "code",
   "execution_count": 8,
   "id": "a791ba0a",
   "metadata": {},
   "outputs": [
    {
     "data": {
      "text/plain": [
       "FeatureAttentionStatePredictor(\n",
       "  (feature_encoding): Sequential(\n",
       "    (0): Linear(in_features=1, out_features=64, bias=True)\n",
       "    (1): LayerNorm((64,), eps=1e-05, elementwise_affine=True)\n",
       "    (2): ReLU()\n",
       "  )\n",
       "  (layers): ModuleList(\n",
       "    (0-1): 2 x ModuleDict(\n",
       "      (norm1): LayerNorm((64,), eps=1e-05, elementwise_affine=True)\n",
       "      (attention): MultiheadAttention(\n",
       "        (out_proj): NonDynamicallyQuantizableLinear(in_features=64, out_features=64, bias=True)\n",
       "      )\n",
       "      (dropout1): Dropout(p=0.0, inplace=False)\n",
       "      (norm2): LayerNorm((64,), eps=1e-05, elementwise_affine=True)\n",
       "      (ffn): Sequential(\n",
       "        (0): Linear(in_features=64, out_features=256, bias=True)\n",
       "        (1): ReLU()\n",
       "        (2): Dropout(p=0.0, inplace=False)\n",
       "        (3): Linear(in_features=256, out_features=64, bias=True)\n",
       "      )\n",
       "      (dropout2): Dropout(p=0.0, inplace=False)\n",
       "    )\n",
       "  )\n",
       "  (output_layer): Linear(in_features=64, out_features=1, bias=True)\n",
       ")"
      ]
     },
     "execution_count": 8,
     "metadata": {},
     "output_type": "execute_result"
    }
   ],
   "source": [
    "# Define model parameters\n",
    "state_dim = 55  # Replace with your actual state dimension\n",
    "action_dim = 21  # Replace with your actual action dimension\n",
    "\n",
    "# Initialize the model \n",
    "\n",
    "# cartpole: state_dim=4, action_dim=1, hidden_dim=64, num_heads=4, attn_layers=2\n",
    "# humanoid: state_dim=55, action_dim=21, hidden_dim=256, num_heads=4, attn_layers=4\n",
    "model = FeatureAttentionStatePredictor(\n",
    "    state_dim=4,\n",
    "    action_dim=1,\n",
    "    hidden_dim=64,\n",
    "    num_heads=4,\n",
    "    attn_layers=2,\n",
    "    dropout_rate=0.0\n",
    ")\n",
    "\n",
    "# Load the trained weights\n",
    "pth_path = \"F:\\\\Sheffield's Folder\\\\CMU\\\\16-745 OPT-Control & RL\\\\Projects\\\\Humanoid_MPPI-RL\\\\checkpoints_cartpole\\\\model_final.pth\"\n",
    "model.load_state_dict(torch.load(pth_path, map_location='cpu'))\n",
    "model.eval()"
   ]
  },
  {
   "cell_type": "code",
   "execution_count": null,
   "id": "8061de6d",
   "metadata": {},
   "outputs": [],
   "source": [
    "# Load initial states and actions\n",
    "# 04-21_011138 is for cartpole inferencing, 04-19_153833 is for humanoid\n",
    "data_directory = \"F:\\\\Sheffield's Folder\\\\CMU\\\\16-745 OPT-Control & RL\\\\Projects\\\\Humanoid_MPPI-RL\\\\data\\\\2025-04-21_011138\"\n",
    "state_path = os.path.join(data_directory, \"states.csv\")\n",
    "action_path = os.path.join(data_directory, \"actions.csv\")\n",
    "states = np.loadtxt(state_path, delimiter=',')  # Shape: (T, state_dim)\n",
    "actions = np.loadtxt(action_path, delimiter=',')  # Shape: (T, action_dim)\n",
    "\n",
    "# Initialize a list to store predicted states\n",
    "predicted_states = []\n",
    "\n",
    "# Convert to tensors\n",
    "state_tensor = torch.tensor(states[0], dtype=torch.float32)\n",
    "for action in actions:\n",
    "    action_tensor = torch.tensor(action, dtype=torch.float32)\n",
    "    if action_tensor.ndim == 0:\n",
    "        action_tensor = action_tensor.unsqueeze(0)  # Make it 1D\n",
    "    input_tensor = torch.cat((state_tensor, action_tensor)).unsqueeze(0)  # Shape: (1, state_dim + action_dim)\n",
    "    \n",
    "    with torch.no_grad():\n",
    "        delta = model(input_tensor).squeeze(0)  # Predict the change in state\n",
    "    \n",
    "    next_state = state_tensor + delta  # Update the state\n",
    "    predicted_states.append(next_state.numpy())\n",
    "    state_tensor = next_state  # Set the current state for the next iteration\n",
    "\n",
    "# Convert the list to a NumPy array\n",
    "predicted_states = np.array(predicted_states)\n",
    "np.savetxt('trajectory.csv', predicted_states, delimiter=',')\n"
   ]
  },
  {
   "cell_type": "code",
   "execution_count": 15,
   "id": "7cfb2965",
   "metadata": {},
   "outputs": [],
   "source": [
    "# Load the MuJoCo model\n",
    "# model_path = './humanoid.xml'  # Replace with your actual model path\n",
    "model_path = \"F:\\\\Sheffield's Folder\\\\CMU\\\\16-745 OPT-Control & RL\\\\Projects\\\\Humanoid_MPPI-RL\\\\models\\\\cartpole.xml\"\n",
    "mujoco_model = mujoco.MjModel.from_xml_path(model_path)\n",
    "mujoco_data = mujoco.MjData(mujoco_model)\n",
    "\n",
    "# Load the predicted trajectory\n",
    "trajectory = np.loadtxt('trajectory.csv', delimiter=',')\n",
    "\n",
    "# Determine dimensions\n",
    "qpos_dim = mujoco_model.nq\n",
    "qvel_dim = mujoco_model.nv\n",
    "\n",
    "# Launch the viewer\n",
    "with mujoco.viewer.launch_passive(mujoco_model, mujoco_data) as viewer:\n",
    "    for state in trajectory:\n",
    "        # Split the state into qpos and qvel\n",
    "        qpos = state[:qpos_dim]\n",
    "        qvel = state[qpos_dim:qpos_dim + qvel_dim]\n",
    "\n",
    "        # Set the state\n",
    "        mujoco_data.qpos[:] = qpos\n",
    "        mujoco_data.qvel[:] = qvel\n",
    "\n",
    "        # Forward the simulation and render\n",
    "        mujoco.mj_forward(mujoco_model, mujoco_data)\n",
    "        viewer.sync()\n",
    "\n",
    "        time.sleep(1 / 60.0)  # Adjust the sleep time as needed\n"
   ]
  }
 ],
 "metadata": {
  "kernelspec": {
   "display_name": "Python 3",
   "language": "python",
   "name": "python3"
  },
  "language_info": {
   "codemirror_mode": {
    "name": "ipython",
    "version": 3
   },
   "file_extension": ".py",
   "mimetype": "text/x-python",
   "name": "python",
   "nbconvert_exporter": "python",
   "pygments_lexer": "ipython3",
   "version": "3.10.15"
  }
 },
 "nbformat": 4,
 "nbformat_minor": 5
}
