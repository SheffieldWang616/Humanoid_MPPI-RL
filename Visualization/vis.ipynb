{
 "cells": [
  {
   "cell_type": "code",
   "execution_count": 2,
   "id": "1dff0144",
   "metadata": {},
   "outputs": [],
   "source": [
    "import os, sys\n",
    "import mujoco\n",
    "import mujoco.viewer\n",
    "import numpy as np\n",
    "import time"
   ]
  },
  {
   "cell_type": "code",
   "execution_count": 4,
   "id": "197d5e1b",
   "metadata": {},
   "outputs": [
    {
     "name": "stdout",
     "output_type": "stream",
     "text": [
      "Loaded 24031 frames, 55 features per state.\n",
      "Saved trajectory.csv!\n"
     ]
    }
   ],
   "source": [
    "\n",
    "# Load model to get nq and nv\n",
    "model = mujoco.MjModel.from_xml_path(\"F:\\\\Sheffield's Folder\\\\CMU\\\\16-745 OPT-Control & RL\\\\Projects\\\\Humanoid_MPPI-RL\\\\Visualization\\\\humanoid.xml\")\n",
    "nq = model.nq\n",
    "nv = model.nv\n",
    "\n",
    "# Load your state file\n",
    "data_directory = \"F:\\\\Sheffield's Folder\\\\CMU\\\\16-745 OPT-Control & RL\\\\Projects\\\\Humanoid_MPPI-RL\\\\data\\\\2025-04-19_153833\"\n",
    "state_path = os.path.join(data_directory, \"states.csv\")\n",
    "states = np.loadtxt(state_path, delimiter=\",\", skiprows=1)  # adjust if header\n",
    "print(f\"Loaded {states.shape[0]} frames, {states.shape[1]} features per state.\")\n",
    "\n",
    "# Validate and slice if necessary\n",
    "assert states.shape[1] >= nq + nv, \"State file doesn't contain enough dimensions for qpos + qvel\"\n",
    "\n",
    "qpos_qvel = states[:, :nq+nv]  # Take only the first nq+nv columns\n",
    "\n",
    "# Save as trajectory.csv\n",
    "np.savetxt(\"trajectory.csv\", qpos_qvel, delimiter=\",\")\n",
    "print(\"Saved trajectory.csv!\")\n"
   ]
  },
  {
   "cell_type": "code",
   "execution_count": 6,
   "id": "0f11b855",
   "metadata": {},
   "outputs": [
    {
     "ename": "KeyboardInterrupt",
     "evalue": "",
     "output_type": "error",
     "traceback": [
      "\u001b[1;31m---------------------------------------------------------------------------\u001b[0m",
      "\u001b[1;31mKeyboardInterrupt\u001b[0m                         Traceback (most recent call last)",
      "Cell \u001b[1;32mIn[6], line 26\u001b[0m\n\u001b[0;32m     23\u001b[0m mujoco\u001b[38;5;241m.\u001b[39mmj_forward(model, data)\n\u001b[0;32m     24\u001b[0m viewer\u001b[38;5;241m.\u001b[39msync()\n\u001b[1;32m---> 26\u001b[0m \u001b[43mtime\u001b[49m\u001b[38;5;241;43m.\u001b[39;49m\u001b[43msleep\u001b[49m\u001b[43m(\u001b[49m\u001b[38;5;241;43m1\u001b[39;49m\u001b[43m \u001b[49m\u001b[38;5;241;43m/\u001b[39;49m\u001b[43m \u001b[49m\u001b[38;5;241;43m60.0\u001b[39;49m\u001b[43m)\u001b[49m  \u001b[38;5;66;03m# 60 FPS\u001b[39;00m\n",
      "\u001b[1;31mKeyboardInterrupt\u001b[0m: "
     ]
    }
   ],
   "source": [
    "# Load the model\n",
    "model = mujoco.MjModel.from_xml_path(\"F:\\\\Sheffield's Folder\\\\CMU\\\\16-745 OPT-Control & RL\\\\Projects\\\\Humanoid_MPPI-RL\\\\Visualization\\\\humanoid.xml\")\n",
    "data = mujoco.MjData(model)\n",
    "\n",
    "# Dummy predicted trajectory (replace with your real output)\n",
    "# Shape: (T, qpos_dim + qvel_dim)\n",
    "trajectory = np.loadtxt(\"trajectory.csv\", delimiter=\",\")  # ← or from your model\n",
    "\n",
    "# Launch viewer\n",
    "with mujoco.viewer.launch_passive(model, data) as viewer:\n",
    "    for t in range(len(trajectory)):\n",
    "        # Unpack qpos and qvel\n",
    "        qpos_dim = model.nq\n",
    "        qvel_dim = model.nv\n",
    "        qpos = trajectory[t, :qpos_dim]\n",
    "        qvel = trajectory[t, qpos_dim:qpos_dim+qvel_dim]\n",
    "\n",
    "        # Set state\n",
    "        data.qpos[:] = qpos\n",
    "        data.qvel[:] = qvel\n",
    "\n",
    "        # Forward and render\n",
    "        mujoco.mj_forward(model, data)\n",
    "        viewer.sync()\n",
    "\n",
    "        time.sleep(1 / 60.0)  # 60 FPS\n"
   ]
  }
 ],
 "metadata": {
  "kernelspec": {
   "display_name": "Python 3",
   "language": "python",
   "name": "python3"
  },
  "language_info": {
   "codemirror_mode": {
    "name": "ipython",
    "version": 3
   },
   "file_extension": ".py",
   "mimetype": "text/x-python",
   "name": "python",
   "nbconvert_exporter": "python",
   "pygments_lexer": "ipython3",
   "version": "3.10.15"
  }
 },
 "nbformat": 4,
 "nbformat_minor": 5
}
