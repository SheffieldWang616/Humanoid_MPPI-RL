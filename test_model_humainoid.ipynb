{
 "cells": [
  {
   "cell_type": "code",
   "execution_count": 1,
   "id": "b1884303",
   "metadata": {},
   "outputs": [],
   "source": [
    "using MuJoCo\n"
   ]
  },
  {
   "cell_type": "code",
   "execution_count": 4,
   "id": "b1f2d325",
   "metadata": {},
   "outputs": [
    {
     "name": "stdout",
     "output_type": "stream",
     "text": [
      "Custom model: 17 bodies, 22 joints\n",
      "Sample model: 17 bodies, 22 joints\n"
     ]
    }
   ],
   "source": [
    "model1 = load_model(\"C:/Users/ARKin/.mujoco/mujoco316/model/humanoid/humanoid.xml\")\n",
    "model2, data2 = MuJoCo.sample_model_and_data()\n",
    "\n",
    "println(\"Custom model: \", model1.nbody, \" bodies, \", model1.njnt, \" joints\")\n",
    "println(\"Sample model: \", model2.nbody, \" bodies, \", model2.njnt, \" joints\")"
   ]
  }
 ],
 "metadata": {
  "kernelspec": {
   "display_name": "Julia 1.10.7",
   "language": "julia",
   "name": "julia-1.10"
  },
  "language_info": {
   "file_extension": ".jl",
   "mimetype": "application/julia",
   "name": "julia",
   "version": "1.10.7"
  }
 },
 "nbformat": 4,
 "nbformat_minor": 5
}
