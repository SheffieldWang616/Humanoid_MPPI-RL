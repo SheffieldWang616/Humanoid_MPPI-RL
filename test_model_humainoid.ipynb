{
 "cells": [
  {
   "cell_type": "code",
   "execution_count": null,
   "id": "b1884303",
   "metadata": {},
   "outputs": [],
   "source": [
    "using MuJoCo\n"
   ]
  },
  {
   "cell_type": "code",
   "execution_count": null,
   "id": "b1f2d325",
   "metadata": {},
   "outputs": [
    {
     "name": "stdout",
     "output_type": "stream",
     "text": [
      "Custom model: 17 bodies, 22 joints\n",
      "Sample model: 17 bodies, 22 joints\n"
     ]
    }
   ],
   "source": [
    "model1 = load_model(\"C:/Users/ARKin/.mujoco/mujoco316/model/humanoid/humanoid.xml\")\n",
    "model2, data2 = MuJoCo.sample_model_and_data()\n",
    "\n",
    "println(\"Custom model: \", model1.nbody, \" bodies, \", model1.njnt, \" joints\")\n",
    "println(\"Sample model: \", model2.nbody, \" bodies, \", model2.njnt, \" joints\")"
   ]
  },
  {
   "cell_type": "code",
   "execution_count": 1,
   "id": "5ef0ecca",
   "metadata": {},
   "outputs": [
    {
     "name": "stdout",
     "output_type": "stream",
     "text": [
      "qpos_dim = 2\n",
      "qvel_dim = 2\n"
     ]
    }
   ],
   "source": [
    "import mujoco\n",
    "model = mujoco.MjModel.from_xml_path(\"./models/cartpole.xml\")\n",
    "\n",
    "print(\"qpos_dim =\", model.nq)   # number of positional DOFs\n",
    "print(\"qvel_dim =\", model.nv)   # number of velocity DOFs"
   ]
  }
 ],
 "metadata": {
  "kernelspec": {
   "display_name": "Python 3",
   "language": "python",
   "name": "python3"
  },
  "language_info": {
   "codemirror_mode": {
    "name": "ipython",
    "version": 3
   },
   "file_extension": ".py",
   "mimetype": "text/x-python",
   "name": "python",
   "nbconvert_exporter": "python",
   "pygments_lexer": "ipython3",
   "version": "3.10.15"
  }
 },
 "nbformat": 4,
 "nbformat_minor": 5
}
