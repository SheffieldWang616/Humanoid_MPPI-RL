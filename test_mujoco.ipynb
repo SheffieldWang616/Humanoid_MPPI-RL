{
 "cells": [
  {
   "cell_type": "markdown",
   "metadata": {},
   "source": [
    "run the following lines before you run this script\n",
    "\n",
    "in Julia:\n",
    "```\n",
    "] add MuJoCo@0.2.1\n",
    "] add MuJoCo_jll@3.1.6\n",
    "```\n",
    "\n",
    "Also in Julia (or in environment varialbles), setting mujoco path: \n",
    "```\n",
    "ENV[\"MUJOCO_PATH\"]= raw\"C:\\Users\\Sheffield\\.mujoco\\mujoco210\" \n",
    "```"
   ]
  },
  {
   "cell_type": "code",
   "execution_count": 1,
   "metadata": {},
   "outputs": [
    {
     "data": {
      "text/plain": [
       "\"C:\\\\Users\\\\Sheffield\\\\.mujoco\\\\mujoco316\""
      ]
     },
     "metadata": {},
     "output_type": "display_data"
    }
   ],
   "source": [
    "ENV[\"MUJOCO_PATH\"] = raw\"C:\\Users\\Sheffield\\.mujoco\\mujoco316\"\n"
   ]
  },
  {
   "cell_type": "code",
   "execution_count": 7,
   "metadata": {},
   "outputs": [
    {
     "name": "stdout",
     "output_type": "stream",
     "text": [
      "(typeof(model), typeof(data)) = (Model, Data)\n"
     ]
    },
    {
     "data": {
      "text/plain": [
       "(Model, Data)"
      ]
     },
     "metadata": {},
     "output_type": "display_data"
    }
   ],
   "source": [
    "using MuJoCo\n",
    "\n",
    "model, data = MuJoCo.sample_model_and_data()\n",
    "@show typeof(model), typeof(data)"
   ]
  },
  {
   "cell_type": "code",
   "execution_count": 8,
   "metadata": {},
   "outputs": [
    {
     "name": "stdout",
     "output_type": "stream",
     "text": [
      "Simulation timestep: 0.005\n",
      "Positions of joints: [0.0; 0.0; 1.282; 1.0; 0.0; 0.0; 0.0; 0.0; 0.0; 0.0; 0.0; 0.0; 0.0; 0.0; 0.0; 0.0; 0.0; 0.0; 0.0; 0.0; 0.0; 0.0; 0.0; 0.0; 0.0; 0.0; 0.0; 0.0;;]\n"
     ]
    }
   ],
   "source": [
    "println(\"Simulation timestep: \", model.opt.timestep)\n",
    "println(\"Positions of joints: \", data.qpos)"
   ]
  },
  {
   "cell_type": "code",
   "execution_count": 9,
   "metadata": {},
   "outputs": [],
   "source": [
    "function random_controller!(m::Model, d::Data)\n",
    "    nu = m.nu\n",
    "    d.ctrl .= 2*rand(nu) .- 1\n",
    "    return nothing\n",
    "end\n",
    "\n",
    "for t in 1:100\n",
    "    random_controller!(model, data)\n",
    "    step!(model, data)\n",
    "end"
   ]
  },
  {
   "cell_type": "code",
   "execution_count": 10,
   "metadata": {},
   "outputs": [
    {
     "name": "stdout",
     "output_type": "stream",
     "text": [
      "New joint positions: [0.07059916862568241; -0.07225462924888024; 1.1092604717862653; 0.8308454342437838; 0.06573946557467682; 0.5211640680640023; -0.1837449352259639; 0.0921945369960121; -1.0743703952297607; -0.13758325674611993; 0.17533894431330402; 0.3391014690415822; -0.46139437634711405; -0.2589586325365289; 0.1961130174721531; 0.024589364725162335; -0.12549086534926263; -0.09638868381367761; -0.6958209160687694; -1.7084121249088864; -0.07027338958905005; -0.8806399618394466; 0.5857495552811881; 0.21154586886901539; -1.3866398312225865; 0.371471130410015; -0.29755950776503554; -0.20561999822814753;;]\n"
     ]
    }
   ],
   "source": [
    "println(\"New joint positions: \", data.qpos)"
   ]
  },
  {
   "cell_type": "code",
   "execution_count": 7,
   "metadata": {},
   "outputs": [
    {
     "name": "stdout",
     "output_type": "stream",
     "text": [
      "Reset joint positions: [0.0; 0.0; 1.282; 1.0; 0.0; 0.0; 0.0; 0.0; 0.0; 0.0; 0.0; 0.0; 0.0; 0.0; 0.0; 0.0; 0.0; 0.0; 0.0; 0.0; 0.0; 0.0; 0.0; 0.0; 0.0; 0.0; 0.0; 0.0;;]\n"
     ]
    }
   ],
   "source": [
    "mj_resetData(model, data)\n",
    "println(\"Reset joint positions: \", data.qpos)"
   ]
  },
  {
   "cell_type": "code",
   "execution_count": null,
   "metadata": {},
   "outputs": [
    {
     "name": "stdout",
     "output_type": "stream",
     "text": [
      " __  __            _        _____       _ _ \n",
      "|  \\/  |          | |      / ____|     (_) |\n",
      "| \\  / |_   _     | | ___ | |     ___   _| |\n",
      "| |\\/| | | | |_   | |/ _ \\| |    / _ \\ | | |\n",
      "| |  | | |_| | |__| | (_) | |___| (_) || | |\n",
      "|_|  |_|\\__,_|\\____/ \\___/ \\_____\\___(_) |_|\n",
      "                                      _/ |  \n",
      "                                     |__/   \n",
      "\n",
      "Press \"F1\" to show the help message.\n"
     ]
    }
   ],
   "source": [
    "init_visualiser()\n",
    "visualise!(model, data, controller=random_controller!)"
   ]
  }
 ],
 "metadata": {
  "kernelspec": {
   "display_name": "Julia 1.10.7",
   "language": "julia",
   "name": "julia-1.10"
  },
  "language_info": {
   "file_extension": ".jl",
   "mimetype": "application/julia",
   "name": "julia",
   "version": "1.10.7"
  }
 },
 "nbformat": 4,
 "nbformat_minor": 2
}
