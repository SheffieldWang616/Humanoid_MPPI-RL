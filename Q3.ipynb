{
 "cells": [
  {
   "cell_type": "markdown",
   "id": "a23aae7b",
   "metadata": {},
   "source": [
    "## Q3 (5 pts)\n",
    "\n",
    "Please fill out the following project form (one per group). This will primarily be for the TAs to use to understand what you are working on and hopefully be able to better assist you. If you haven't decided on certain aspects of the project, just include what you are currently thinking/what decisions you need to make."
   ]
  },
  {
   "cell_type": "markdown",
   "id": "7674d43c",
   "metadata": {},
   "source": [
    "\n",
    "**(1) Write down your dynamics (handwritten, code, or latex). This can be continuous-time (include how you are discretizing your system) or discrete-time.**"
   ]
  },
  {
   "cell_type": "markdown",
   "id": "c2a65763",
   "metadata": {},
   "source": [
    "We are using MuJoCo-3.1.6 default humanoid as our base model.\n",
    "\n",
    "It has 17 bodies and 22 joints."
   ]
  },
  {
   "cell_type": "markdown",
   "id": "a354260d",
   "metadata": {},
   "source": [
    "**(2) What is your state (what does each variable represent)?**"
   ]
  },
  {
   "cell_type": "markdown",
   "id": "44a79fa4",
   "metadata": {},
   "source": [
    "States will be position and velocities.\n",
    "\n",
    "Default model output for position and velocity can be found as follows:\n",
    "\n",
    "qpos = [0.0; 0.0; 1.282; 1.0; 0.0; 0.0; 0.0; 0.0; 0.0; 0.0; 0.0; 0.0; 0.0; 0.0; 0.0; 0.0; 0.0; 0.0; 0.0; 0.0; 0.0; 0.0; 0.0; 0.0; 0.0; 0.0; 0.0; 0.0;;]\n",
    "\n",
    "size(qpos) = (28, 1)\\\n",
    "\n",
    "qpos has a dimension of 28x1 as a column vector, and can be decoded as follows:\n",
    "\n",
    "### Joint States Mapping\n",
    "\n",
    "| Index Range | Joint Name              | Description                         |\n",
    "|-------------|-------------------------|-------------------------------------|\n",
    "| 1:3         | Root position x, y, z   | Pelvis position in world frame      |\n",
    "| 4:7         | Root orientation        | Quaternion w, x, y, z — torso rotation |\n",
    "| 8           | abdomen_z               | Upper torso twist (yaw)             |\n",
    "| 9           | abdomen_y               | Upper torso bend (pitch)            |\n",
    "| 10          | abdomen_x               | Upper torso tilt (roll)             |\n",
    "| 11          | hip_x_right             | Right thigh forward/back            |\n",
    "| 12          | hip_z_right             | Right thigh twist                   |\n",
    "| 13          | hip_y_right             | Right thigh side                    |\n",
    "| 14          | knee_right              | Right knee bend                     |\n",
    "| 15          | ankle_y_right           | Right ankle pitch                   |\n",
    "| 16          | ankle_x_right           | Right ankle roll                    |\n",
    "| 17          | hip_x_left              | Left thigh forward/back             |\n",
    "| 18          | hip_z_left              | Left thigh twist                    |\n",
    "| 19          | hip_y_left              | Left thigh side                     |\n",
    "| 20          | knee_left               | Left knee bend                      |\n",
    "| 21          | ankle_y_left            | Left ankle pitch                    |\n",
    "| 22          | ankle_x_left            | Left ankle roll                     |\n",
    "| 23          | shoulder1_right         | Right arm rotation                  |\n",
    "| 24          | shoulder2_right         | Right arm lift                      |\n",
    "| 25          | elbow_right             | Right elbow bend                    |\n",
    "| 26          | shoulder1_left          | Left arm rotation                   |\n",
    "| 27          | shoulder2_left          | Left arm lift                       |\n",
    "| 28          | elbow_left              | Left elbow bend                     |\n",
    "\n",
    "\n",
    "qvel = [0.0; 0.0; 0.0; 0.0; 0.0; 0.0; 0.0; 0.0; 0.0; 0.0; 0.0; 0.0; 0.0; 0.0; 0.0; 0.0; 0.0; 0.0; 0.0; 0.0; 0.0; 0.0; 0.0; 0.0; 0.0; 0.0; 0.0;;]\n",
    "\n",
    "size(qvel) = (27, 1)\n",
    "\n",
    "qvel has a dimension of 27x1 as a column vector, and can be decoded as follows:\n",
    "\n",
    "\n",
    "### Joint Velocity Mapping\n",
    "\n",
    "| Index Range | Description                  | Maps to...                 |\n",
    "|-------------|------------------------------|----------------------------|\n",
    "| 1:3         | Root body linear velocity     | Translational speed        |\n",
    "| 4:6         | Root body angular velocity    | Rotational speed (world)   |\n",
    "| 7           | abdomen_z velocity            | Twist rate                 |\n",
    "| 8           | abdomen_y velocity            | Bend rate                  |\n",
    "| 9           | abdomen_x velocity            | Tilt rate                  |\n",
    "| 10          | hip_x_right                   |                            |\n",
    "| 11          | hip_z_right                   |                            |\n",
    "| 12          | hip_y_right                   |                            |\n",
    "| 13          | knee_right                    |                            |\n",
    "| 14          | ankle_y_right                 |                            |\n",
    "| 15          | ankle_x_right                 |                            |\n",
    "| 16          | hip_x_left                    |                            |\n",
    "| 17          | hip_z_left                    |                            |\n",
    "| 18          | hip_y_left                    |                            |\n",
    "| 19          | knee_left                     |                            |\n",
    "| 20          | ankle_y_left                  |                            |\n",
    "| 21          | ankle_x_left                  |                            |\n",
    "| 22          | shoulder1_right               |                            |\n",
    "| 23          | shoulder2_right               |                            |\n",
    "| 24          | elbow_right                   |                            |\n",
    "| 25          | shoulder1_left                |                            |\n",
    "| 26          | shoulder2_left                |                            |\n",
    "| 27          | elbow_left                    |                            |\n",
    "\n"
   ]
  },
  {
   "cell_type": "markdown",
   "id": "b5182ec6",
   "metadata": {},
   "source": [
    "**(3) What is your control (what does each variable represent)?**"
   ]
  },
  {
   "cell_type": "markdown",
   "id": "b7584cc3",
   "metadata": {},
   "source": [
    "From the model xml, we found 21 actuators, all controlling the model using torque as input. Therefore we are using torque as control signals for all 21 acruators. They can be decoded as follows:\n",
    "\n",
    "### Control Mapping\n",
    "\n",
    "| Index | Actuator (Motor Name) | Controls Joint     |\n",
    "|-------|------------------------|--------------------|\n",
    "| 1     | abdomen_z              | abdomen_z          |\n",
    "| 2     | abdomen_y              | abdomen_y          |\n",
    "| 3     | abdomen_x              | abdomen_x          |\n",
    "| 4     | hip_x_right            | hip_x_right        |\n",
    "| 5     | hip_z_right            | hip_z_right        |\n",
    "| 6     | hip_y_right            | hip_y_right        |\n",
    "| 7     | knee_right             | knee_right         |\n",
    "| 8     | ankle_y_right          | ankle_y_right      |\n",
    "| 9     | ankle_x_right          | ankle_x_right      |\n",
    "| 10    | hip_x_left             | hip_x_left         |\n",
    "| 11    | hip_z_left             | hip_z_left         |\n",
    "| 12    | hip_y_left             | hip_y_left         |\n",
    "| 13    | knee_left              | knee_left          |\n",
    "| 14    | ankle_y_left           | ankle_y_left       |\n",
    "| 15    | ankle_x_left           | ankle_x_left       |\n",
    "| 16    | shoulder1_right        | shoulder1_right    |\n",
    "| 17    | shoulder2_right        | shoulder2_right    |\n",
    "| 18    | elbow_right            | elbow_right        |\n",
    "| 19    | shoulder1_left         | shoulder1_left     |\n",
    "| 20    | shoulder2_left         | shoulder2_left     |\n",
    "| 21    | elbow_left             | elbow_left         |\n"
   ]
  },
  {
   "cell_type": "markdown",
   "id": "1ab1ee48",
   "metadata": {},
   "source": [
    "**(4) Briefly describe your goal for the project. What are you trying to make the system do? Specify whether you are doing control, trajectory optimization, both, or something else.**"
   ]
  },
  {
   "cell_type": "markdown",
   "id": "792fedf6",
   "metadata": {},
   "source": [
    "The goal of the project is to simulate locomotion of a bi-pedal robot using MPPI to generate a dataset which is going to be used to learning optimal policy of locomotion through Reinforcement Learning."
   ]
  },
  {
   "cell_type": "markdown",
   "id": "3b646102",
   "metadata": {},
   "source": [
    "**(5) What are your costs?**"
   ]
  },
  {
   "cell_type": "markdown",
   "id": "de84db11",
   "metadata": {},
   "source": [
    "The cost has not been defined yet. The baseline of the cost function is \n",
    "$$  J(x_{1:N},u_{1:N-1}) = \\sum_{i=1}^{N-1} \\bigg[ \\frac{1}{2} (x_i - x_{ref,i})^TQ(x_i - x_{ref,i}) + \\frac{1}{2} (u_i-u_{ref,i})^TR(u_i-u_{ref,i}) \\bigg] + \\frac{1}{2}(x_N - x_{ref,N})^TQ_f(x_N - x_{ref,N})$$\n",
    "which is going to be modified with consideration of the constraints for humanoid locomotion.\n"
   ]
  },
  {
   "cell_type": "markdown",
   "id": "368c8b17",
   "metadata": {},
   "source": [
    "**(6) What are your constraints?**"
   ]
  },
  {
   "cell_type": "markdown",
   "id": "4da33bfd",
   "metadata": {},
   "source": [
    "The constraints would be equality constraints for initial position, final goal, and model dynamics. Inequality constraints would be torque limit, and possibly other environment constraints such as the robot staying upright, ..."
   ]
  },
  {
   "cell_type": "markdown",
   "id": "a0b8ffd2",
   "metadata": {},
   "source": [
    "**(7) What solution methods are you going to try?**\n"
   ]
  },
  {
   "cell_type": "markdown",
   "id": "3188e8af",
   "metadata": {},
   "source": [
    "The team is going to build dataset of predicted trajectories with MPPI and apply reinforcement learning to find the optimal policy of locomotion."
   ]
  },
  {
   "cell_type": "markdown",
   "id": "7f8d9a7d",
   "metadata": {},
   "source": [
    "**(8) What have you tried so far?**"
   ]
  },
  {
   "cell_type": "markdown",
   "id": "e8bbf4ae",
   "metadata": {},
   "source": [
    "The team is currently generating dataset using MPPI with the dynamic model provided from MuJoCo."
   ]
  },
  {
   "cell_type": "markdown",
   "id": "e6eca77f",
   "metadata": {},
   "source": [
    "**(9) If applicable, what are you currently running into issues with?**"
   ]
  },
  {
   "cell_type": "markdown",
   "id": "e7cfc4f1",
   "metadata": {},
   "source": [
    "Current issues would be tunning fo the cost function which significantly affects the quality of the generated dataset."
   ]
  },
  {
   "cell_type": "markdown",
   "id": "aed4e1da",
   "metadata": {},
   "source": [
    "**(10) If your system doesn't fit with some of the questions above or there are additional things you'd like to elaborate on, please explain/do that here.**"
   ]
  },
  {
   "cell_type": "markdown",
   "id": "74f51a99",
   "metadata": {},
   "source": [
    "The data generated from MPPI could represent a poor model which then the team would have to look for or generat good dataset or try addtional approach like iLQR to solve the issue."
   ]
  }
 ],
 "metadata": {
  "kernelspec": {
   "display_name": "Julia 1.10.7",
   "language": "julia",
   "name": "julia-1.10"
  },
  "language_info": {
   "file_extension": ".jl",
   "mimetype": "application/julia",
   "name": "julia",
   "version": "1.10.7"
  }
 },
 "nbformat": 4,
 "nbformat_minor": 5
}
